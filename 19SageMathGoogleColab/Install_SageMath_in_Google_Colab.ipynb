{
  "cells": [
    {
      "cell_type": "markdown",
      "source": [
        "# **[GitHub](https://github.com/demining/CryptoDeepTools/tree/main/19SageMathGoogleColab)**"
      ],
      "metadata": {
        "id": "qc8X_OxUkx6k"
      }
    },
    {
      "cell_type": "code",
      "execution_count": null,
      "metadata": {
        "colab": {
          "base_uri": "https://localhost:8080/"
        },
        "id": "VVWe1VFvxlPR",
        "outputId": "d6612127-95d0-4bc6-9e5d-1e4f9f5b4fb8"
      },
      "outputs": [
        {
          "name": "stdout",
          "output_type": "stream",
          "text": [
            "--2023-04-13 13:23:39--  https://cryptodeeptech.ru/sage-9.3-Ubuntu_20.04-x86_64.tar.bz2\n",
            "Resolving cryptodeeptech.ru (cryptodeeptech.ru)... 81.177.33.245\n",
            "Connecting to cryptodeeptech.ru (cryptodeeptech.ru)|81.177.33.245|:443... connected.\n",
            "HTTP request sent, awaiting response... 200 OK\n",
            "Length: 3024213243 (2.8G) [application/x-bzip2]\n",
            "Saving to: ‘sage-9.3-Ubuntu_20.04-x86_64.tar.bz2’\n",
            "\n",
            "sage-9.3-Ubuntu_20. 100%[===================>]   2.82G  24.2MB/s    in 2m 1s   \n",
            "\n",
            "2023-04-13 13:25:41 (23.9 MB/s) - ‘sage-9.3-Ubuntu_20.04-x86_64.tar.bz2’ saved [3024213243/3024213243]\n",
            "\n"
          ]
        }
      ],
      "source": [
        "!wget https://cryptodeeptech.ru/sage-9.3-Ubuntu_20.04-x86_64.tar.bz2\n",
        "!tar -xf sage-9.3-Ubuntu_20.04-x86_64.tar.bz2"
      ]
    },
    {
      "cell_type": "code",
      "execution_count": null,
      "metadata": {
        "colab": {
          "base_uri": "https://localhost:8080/"
        },
        "id": "xa-cKD6ox7d9",
        "outputId": "f6f5bbf9-6243-47d7-b230-d923ff433d75"
      },
      "outputs": [
        {
          "name": "stdout",
          "output_type": "stream",
          "text": [
            "/content/SageMath\n"
          ]
        }
      ],
      "source": [
        "cd SageMath/"
      ]
    },
    {
      "cell_type": "code",
      "execution_count": null,
      "metadata": {
        "colab": {
          "base_uri": "https://localhost:8080/"
        },
        "id": "pEJ90_OYx7Of",
        "outputId": "5d80bc89-3d54-4c79-f56c-8f41687fb732"
      },
      "outputs": [
        {
          "name": "stdout",
          "output_type": "stream",
          "text": [
            "\u001b[0m\u001b[01;32mbootstrap\u001b[0m*      configure.ac              \u001b[01;34mlogs\u001b[0m/               \u001b[01;32msage\u001b[0m*\n",
            "\u001b[01;34mbuild\u001b[0m/          COPYING.txt               \u001b[01;34mm4\u001b[0m/                 \u001b[01;34msrc\u001b[0m/\n",
            "condarc.yml     \u001b[01;34mdocker\u001b[0m/                   Makefile            tox.ini\n",
            "\u001b[01;34mconfig\u001b[0m/         environment-optional.yml  pyrightconfig.json  \u001b[01;34mupstream\u001b[0m/\n",
            "\u001b[01;32mconfig.status\u001b[0m*  environment.yml           README.md           VERSION.txt\n",
            "\u001b[01;32mconfigure\u001b[0m*      \u001b[01;34mlocal\u001b[0m/                    \u001b[01;32mrelocate-once.py\u001b[0m*\n"
          ]
        }
      ],
      "source": [
        "ls"
      ]
    },
    {
      "cell_type": "code",
      "execution_count": null,
      "metadata": {
        "id": "d2YC5mPcx7Km"
      },
      "outputs": [],
      "source": [
        "!python3 relocate-once.py"
      ]
    },
    {
      "cell_type": "code",
      "execution_count": null,
      "metadata": {
        "colab": {
          "background_save": true
        },
        "id": "Jbt3jZm6x7FP"
      },
      "outputs": [],
      "source": [
        "!./sage -sh"
      ]
    }
  ],
  "metadata": {
    "colab": {
      "provenance": []
    },
    "kernelspec": {
      "display_name": "Python 3",
      "name": "python3"
    },
    "language_info": {
      "name": "python"
    }
  },
  "nbformat": 4,
  "nbformat_minor": 0
}